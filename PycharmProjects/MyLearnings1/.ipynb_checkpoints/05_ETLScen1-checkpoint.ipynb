{
 "cells": [
  {
   "cell_type": "code",
   "execution_count": null,
   "id": "5d1fff7e-edb3-498f-bf25-f4da5978b143",
   "metadata": {},
   "outputs": [],
   "source": [
    "# Distinct, duplicates"
   ]
  },
  {
   "cell_type": "code",
   "execution_count": 1,
   "id": "34daa7f0-f659-4c27-b2b8-22ee400c9eb0",
   "metadata": {},
   "outputs": [],
   "source": [
    "import pandas as pd"
   ]
  },
  {
   "cell_type": "code",
   "execution_count": 2,
   "id": "bc92da4b-9b76-4141-a578-79636c2e4129",
   "metadata": {},
   "outputs": [],
   "source": [
    "df_csv = pd.read_csv('C:/Users/KAMPLI ENTERPRISES/PycharmProjects/Files/Customers.csv')"
   ]
  },
  {
   "cell_type": "code",
   "execution_count": 4,
   "id": "8ef8afd2-785e-426a-954e-85f822094366",
   "metadata": {},
   "outputs": [
    {
     "data": {
      "text/plain": [
       "(100, 11)"
      ]
     },
     "execution_count": 4,
     "metadata": {},
     "output_type": "execute_result"
    }
   ],
   "source": [
    "df_csv.shape"
   ]
  },
  {
   "cell_type": "code",
   "execution_count": 5,
   "id": "3ed31919-11f6-4c9f-bae6-6e9b8b53e7ac",
   "metadata": {},
   "outputs": [
    {
     "data": {
      "text/plain": [
       "11"
      ]
     },
     "execution_count": 5,
     "metadata": {},
     "output_type": "execute_result"
    }
   ],
   "source": [
    "len(df_csv.columns)"
   ]
  },
  {
   "cell_type": "code",
   "execution_count": 6,
   "id": "0ce93a11-5270-44d8-ab43-4c2954d251e9",
   "metadata": {},
   "outputs": [
    {
     "data": {
      "text/plain": [
       "100"
      ]
     },
     "execution_count": 6,
     "metadata": {},
     "output_type": "execute_result"
    }
   ],
   "source": [
    "len(df_csv)"
   ]
  },
  {
   "cell_type": "code",
   "execution_count": 7,
   "id": "c4931429-7e82-49b4-8ab4-e627648391c1",
   "metadata": {},
   "outputs": [
    {
     "data": {
      "text/plain": [
       "0       Sheryl\n",
       "1      Preston\n",
       "2          Roy\n",
       "3        Linda\n",
       "4       Joanna\n",
       "        ...   \n",
       "95        Karl\n",
       "96        Lynn\n",
       "97        Fred\n",
       "98      Yvonne\n",
       "99    Clarence\n",
       "Name: First Name, Length: 100, dtype: object"
      ]
     },
     "execution_count": 7,
     "metadata": {},
     "output_type": "execute_result"
    }
   ],
   "source": [
    "\n",
    "\n",
    "df_csv['First Name']\n"
   ]
  },
  {
   "cell_type": "code",
   "execution_count": 10,
   "id": "e7ff8741-f929-4504-8f98-be189260f691",
   "metadata": {},
   "outputs": [
    {
     "data": {
      "text/plain": [
       "array(['Sheryl', 'Preston', 'Roy', 'Linda', 'Joanna', 'Aimee', 'Darren',\n",
       "       'Brett', 'Michelle', 'Carl', 'Jenna', 'Tracey', 'Kristine',\n",
       "       'Faith', 'Miranda', 'Caroline', 'Greg', 'Clifford', 'Maxwell',\n",
       "       'Kiara', 'Colleen', 'Janet', 'Shane', 'Marcus', 'Dakota',\n",
       "       'Frederick', 'Stefanie', 'Kent', 'Jack', 'Tom', 'Gabriel',\n",
       "       'Kaitlyn', 'Tammie', 'Nicholas', 'Jordan', 'Bruce', 'Sherry',\n",
       "       'Natalie', 'Bryan', 'Wayne', 'Luis', 'Rhonda', 'Joanne',\n",
       "       'Geoffrey', 'Gloria', 'Brady', 'Latoya', 'Gerald', 'Samuel',\n",
       "       'Patricia', 'Stacie', 'Robin', 'Ralph', 'Phyllis', 'Danny',\n",
       "       'Kathy', 'Kelli', 'Lynn', 'Shelley', 'Eddie', 'Chloe', 'Eileen',\n",
       "       'Fernando', 'Makayla', 'Virginia', 'Riley', 'Alexandria',\n",
       "       'Richard', 'Candice', 'Anita', 'Regina', 'Debra', 'Brittany',\n",
       "       'Cassidy', 'Laurie', 'Alejandro', 'Leslie', 'Kathleen', 'Hunter',\n",
       "       'Chad', 'Corey', 'Emma', 'Duane', 'Alison', 'Vernon', 'Lori',\n",
       "       'Nina', 'Collin', 'Darrell', 'Karl', 'Fred', 'Yvonne', 'Clarence'],\n",
       "      dtype=object)"
      ]
     },
     "execution_count": 10,
     "metadata": {},
     "output_type": "execute_result"
    }
   ],
   "source": [
    "# Find distinct values in columns\n",
    "df_csv['First Name'].unique()"
   ]
  },
  {
   "cell_type": "code",
   "execution_count": 11,
   "id": "2db61a6f-37a4-4d69-8c3e-a871cadcb614",
   "metadata": {},
   "outputs": [
    {
     "data": {
      "text/plain": [
       "93"
      ]
     },
     "execution_count": 11,
     "metadata": {},
     "output_type": "execute_result"
    }
   ],
   "source": [
    "len(df_csv['First Name'].unique())"
   ]
  },
  {
   "cell_type": "code",
   "execution_count": 19,
   "id": "c4ce08bc-7653-4263-b123-e22d6df66f21",
   "metadata": {},
   "outputs": [
    {
     "data": {
      "text/plain": [
       "0      False\n",
       "1      False\n",
       "2       True\n",
       "3      False\n",
       "4      False\n",
       "       ...  \n",
       "96     False\n",
       "97     False\n",
       "98     False\n",
       "99     False\n",
       "100    False\n",
       "Length: 101, dtype: bool"
      ]
     },
     "execution_count": 19,
     "metadata": {},
     "output_type": "execute_result"
    }
   ],
   "source": [
    "# Find duplicate values\n",
    "df_dup = pd.read_csv('C:/Users/KAMPLI ENTERPRISES/PycharmProjects/Files/Customers_dup.csv')\n",
    "df_dup.duplicated()"
   ]
  },
  {
   "cell_type": "code",
   "execution_count": 20,
   "id": "af390a7c-09b8-46df-a717-0d15525f2eb3",
   "metadata": {},
   "outputs": [
    {
     "data": {
      "text/html": [
       "<div>\n",
       "<style scoped>\n",
       "    .dataframe tbody tr th:only-of-type {\n",
       "        vertical-align: middle;\n",
       "    }\n",
       "\n",
       "    .dataframe tbody tr th {\n",
       "        vertical-align: top;\n",
       "    }\n",
       "\n",
       "    .dataframe thead th {\n",
       "        text-align: right;\n",
       "    }\n",
       "</style>\n",
       "<table border=\"1\" class=\"dataframe\">\n",
       "  <thead>\n",
       "    <tr style=\"text-align: right;\">\n",
       "      <th></th>\n",
       "      <th>Customer Id</th>\n",
       "      <th>First Name</th>\n",
       "      <th>Last Name</th>\n",
       "      <th>Company</th>\n",
       "      <th>City</th>\n",
       "      <th>Country</th>\n",
       "      <th>Phone 1</th>\n",
       "      <th>Phone 2</th>\n",
       "      <th>Email</th>\n",
       "      <th>Subscription Date</th>\n",
       "      <th>Website</th>\n",
       "    </tr>\n",
       "  </thead>\n",
       "  <tbody>\n",
       "    <tr>\n",
       "      <th>2</th>\n",
       "      <td>1Ef7b82A4CAAD10</td>\n",
       "      <td>Preston</td>\n",
       "      <td>Lozano</td>\n",
       "      <td>Vega-Gentry</td>\n",
       "      <td>East Jimmychester</td>\n",
       "      <td>Djibouti</td>\n",
       "      <td>5153435776</td>\n",
       "      <td>686-620-1820x944</td>\n",
       "      <td>vmata@colon.com</td>\n",
       "      <td>4/23/2021</td>\n",
       "      <td>http://www.hobbs.com/</td>\n",
       "    </tr>\n",
       "  </tbody>\n",
       "</table>\n",
       "</div>"
      ],
      "text/plain": [
       "       Customer Id First Name Last Name      Company               City  \\\n",
       "2  1Ef7b82A4CAAD10    Preston    Lozano  Vega-Gentry  East Jimmychester   \n",
       "\n",
       "    Country     Phone 1           Phone 2            Email Subscription Date  \\\n",
       "2  Djibouti  5153435776  686-620-1820x944  vmata@colon.com         4/23/2021   \n",
       "\n",
       "                 Website  \n",
       "2  http://www.hobbs.com/  "
      ]
     },
     "execution_count": 20,
     "metadata": {},
     "output_type": "execute_result"
    }
   ],
   "source": [
    "# Print the duplicate values\n",
    "df_dup[df_dup_csv.duplicated()]"
   ]
  },
  {
   "cell_type": "code",
   "execution_count": 24,
   "id": "4d4bcda6-a3b8-489c-92bb-770699baf281",
   "metadata": {},
   "outputs": [],
   "source": [
    "# Write duplicate values to a csv file\n",
    "df_duplicated = df_dup[df_dup_csv.duplicated()]\n",
    "df_duplicated.to_csv('dupvalues.csv')"
   ]
  },
  {
   "cell_type": "code",
   "execution_count": 25,
   "id": "0e72aa31-0c5a-4a21-b68d-a5d373031172",
   "metadata": {},
   "outputs": [],
   "source": [
    "# Using a small file for MAx and Min\n",
    "df = pd.read_excel('C:/Users/KAMPLI ENTERPRISES/PycharmProjects/Files/Orders.xlsx')"
   ]
  },
  {
   "cell_type": "code",
   "execution_count": 26,
   "id": "044ce4e4-1fc5-41e2-9985-ba5f9b43b3b5",
   "metadata": {},
   "outputs": [
    {
     "data": {
      "text/html": [
       "<div>\n",
       "<style scoped>\n",
       "    .dataframe tbody tr th:only-of-type {\n",
       "        vertical-align: middle;\n",
       "    }\n",
       "\n",
       "    .dataframe tbody tr th {\n",
       "        vertical-align: top;\n",
       "    }\n",
       "\n",
       "    .dataframe thead th {\n",
       "        text-align: right;\n",
       "    }\n",
       "</style>\n",
       "<table border=\"1\" class=\"dataframe\">\n",
       "  <thead>\n",
       "    <tr style=\"text-align: right;\">\n",
       "      <th></th>\n",
       "      <th>Order ID</th>\n",
       "      <th>Order Date</th>\n",
       "      <th>Order Quantity</th>\n",
       "      <th>Sales</th>\n",
       "      <th>Ship Mode</th>\n",
       "      <th>Profit</th>\n",
       "      <th>Unit Price</th>\n",
       "      <th>Customer Name</th>\n",
       "      <th>Customer Segment</th>\n",
       "      <th>Product Category</th>\n",
       "    </tr>\n",
       "  </thead>\n",
       "  <tbody>\n",
       "    <tr>\n",
       "      <th>0</th>\n",
       "      <td>3</td>\n",
       "      <td>2010-10-13</td>\n",
       "      <td>6</td>\n",
       "      <td>261.5400</td>\n",
       "      <td>Regular Air</td>\n",
       "      <td>-213.250</td>\n",
       "      <td>38.94</td>\n",
       "      <td>Muhammed MacIntyre</td>\n",
       "      <td>Small Business</td>\n",
       "      <td>Office Supplies</td>\n",
       "    </tr>\n",
       "    <tr>\n",
       "      <th>1</th>\n",
       "      <td>6</td>\n",
       "      <td>2012-02-20</td>\n",
       "      <td>2</td>\n",
       "      <td>6.9300</td>\n",
       "      <td>Regular Air</td>\n",
       "      <td>-4.640</td>\n",
       "      <td>2.08</td>\n",
       "      <td>Ruben Dartt</td>\n",
       "      <td>Corporate</td>\n",
       "      <td>Office Supplies</td>\n",
       "    </tr>\n",
       "    <tr>\n",
       "      <th>2</th>\n",
       "      <td>32</td>\n",
       "      <td>2011-07-15</td>\n",
       "      <td>26</td>\n",
       "      <td>2808.0800</td>\n",
       "      <td>Regular Air</td>\n",
       "      <td>1054.820</td>\n",
       "      <td>107.53</td>\n",
       "      <td>Liz Pelletier</td>\n",
       "      <td>Corporate</td>\n",
       "      <td>Furniture</td>\n",
       "    </tr>\n",
       "    <tr>\n",
       "      <th>3</th>\n",
       "      <td>32</td>\n",
       "      <td>2011-07-15</td>\n",
       "      <td>24</td>\n",
       "      <td>1761.4000</td>\n",
       "      <td>Delivery Truck</td>\n",
       "      <td>-1748.560</td>\n",
       "      <td>70.89</td>\n",
       "      <td>Liz Pelletier</td>\n",
       "      <td>Corporate</td>\n",
       "      <td>Furniture</td>\n",
       "    </tr>\n",
       "    <tr>\n",
       "      <th>4</th>\n",
       "      <td>32</td>\n",
       "      <td>2011-07-15</td>\n",
       "      <td>23</td>\n",
       "      <td>160.2335</td>\n",
       "      <td>Regular Air</td>\n",
       "      <td>-85.129</td>\n",
       "      <td>7.99</td>\n",
       "      <td>Liz Pelletier</td>\n",
       "      <td>Corporate</td>\n",
       "      <td>Technology</td>\n",
       "    </tr>\n",
       "    <tr>\n",
       "      <th>5</th>\n",
       "      <td>32</td>\n",
       "      <td>2011-07-15</td>\n",
       "      <td>15</td>\n",
       "      <td>140.5600</td>\n",
       "      <td>Regular Air</td>\n",
       "      <td>-128.380</td>\n",
       "      <td>8.46</td>\n",
       "      <td>Liz Pelletier</td>\n",
       "      <td>Corporate</td>\n",
       "      <td>Technology</td>\n",
       "    </tr>\n",
       "    <tr>\n",
       "      <th>6</th>\n",
       "      <td>35</td>\n",
       "      <td>2011-10-22</td>\n",
       "      <td>30</td>\n",
       "      <td>288.5600</td>\n",
       "      <td>Regular Air</td>\n",
       "      <td>60.720</td>\n",
       "      <td>9.11</td>\n",
       "      <td>Julie Creighton</td>\n",
       "      <td>Corporate</td>\n",
       "      <td>Office Supplies</td>\n",
       "    </tr>\n",
       "    <tr>\n",
       "      <th>7</th>\n",
       "      <td>35</td>\n",
       "      <td>2011-10-22</td>\n",
       "      <td>14</td>\n",
       "      <td>1892.8480</td>\n",
       "      <td>Regular Air</td>\n",
       "      <td>48.987</td>\n",
       "      <td>155.99</td>\n",
       "      <td>Julie Creighton</td>\n",
       "      <td>Corporate</td>\n",
       "      <td>Technology</td>\n",
       "    </tr>\n",
       "    <tr>\n",
       "      <th>8</th>\n",
       "      <td>36</td>\n",
       "      <td>2011-11-02</td>\n",
       "      <td>46</td>\n",
       "      <td>2484.7455</td>\n",
       "      <td>Regular Air</td>\n",
       "      <td>657.477</td>\n",
       "      <td>65.99</td>\n",
       "      <td>Sample Company A</td>\n",
       "      <td>Home Office</td>\n",
       "      <td>Technology</td>\n",
       "    </tr>\n",
       "    <tr>\n",
       "      <th>9</th>\n",
       "      <td>65</td>\n",
       "      <td>2011-03-17</td>\n",
       "      <td>32</td>\n",
       "      <td>3812.7300</td>\n",
       "      <td>Regular Air</td>\n",
       "      <td>1470.300</td>\n",
       "      <td>115.79</td>\n",
       "      <td>Tamara Dahlen</td>\n",
       "      <td>Corporate</td>\n",
       "      <td>Technology</td>\n",
       "    </tr>\n",
       "  </tbody>\n",
       "</table>\n",
       "</div>"
      ],
      "text/plain": [
       "   Order ID Order Date  Order Quantity      Sales       Ship Mode    Profit  \\\n",
       "0         3 2010-10-13               6   261.5400     Regular Air  -213.250   \n",
       "1         6 2012-02-20               2     6.9300     Regular Air    -4.640   \n",
       "2        32 2011-07-15              26  2808.0800     Regular Air  1054.820   \n",
       "3        32 2011-07-15              24  1761.4000  Delivery Truck -1748.560   \n",
       "4        32 2011-07-15              23   160.2335     Regular Air   -85.129   \n",
       "5        32 2011-07-15              15   140.5600     Regular Air  -128.380   \n",
       "6        35 2011-10-22              30   288.5600     Regular Air    60.720   \n",
       "7        35 2011-10-22              14  1892.8480     Regular Air    48.987   \n",
       "8        36 2011-11-02              46  2484.7455     Regular Air   657.477   \n",
       "9        65 2011-03-17              32  3812.7300     Regular Air  1470.300   \n",
       "\n",
       "   Unit Price       Customer Name Customer Segment Product Category  \n",
       "0       38.94  Muhammed MacIntyre   Small Business  Office Supplies  \n",
       "1        2.08         Ruben Dartt        Corporate  Office Supplies  \n",
       "2      107.53       Liz Pelletier        Corporate        Furniture  \n",
       "3       70.89       Liz Pelletier        Corporate        Furniture  \n",
       "4        7.99       Liz Pelletier        Corporate       Technology  \n",
       "5        8.46       Liz Pelletier        Corporate       Technology  \n",
       "6        9.11     Julie Creighton        Corporate  Office Supplies  \n",
       "7      155.99     Julie Creighton        Corporate       Technology  \n",
       "8       65.99    Sample Company A      Home Office       Technology  \n",
       "9      115.79       Tamara Dahlen        Corporate       Technology  "
      ]
     },
     "execution_count": 26,
     "metadata": {},
     "output_type": "execute_result"
    }
   ],
   "source": [
    "df"
   ]
  },
  {
   "cell_type": "code",
   "execution_count": 27,
   "id": "def05f7b-d014-49d9-bc6d-c8df04de4043",
   "metadata": {},
   "outputs": [
    {
     "data": {
      "text/plain": [
       "8    46\n",
       "Name: Order Quantity, dtype: int64"
      ]
     },
     "execution_count": 27,
     "metadata": {},
     "output_type": "execute_result"
    }
   ],
   "source": [
    "# FInd max Order QUantity\n",
    "df['Order Quantity'].nlargest(1)"
   ]
  },
  {
   "cell_type": "code",
   "execution_count": 28,
   "id": "9aef0fcb-4112-4ead-acee-e5eb84164631",
   "metadata": {},
   "outputs": [
    {
     "data": {
      "text/plain": [
       "8    46\n",
       "9    32\n",
       "Name: Order Quantity, dtype: int64"
      ]
     },
     "execution_count": 28,
     "metadata": {},
     "output_type": "execute_result"
    }
   ],
   "source": [
    "# Top 2\n",
    "df['Order Quantity'].nlargest(2)"
   ]
  },
  {
   "cell_type": "code",
   "execution_count": 29,
   "id": "140cc8f3-e05f-4c6e-994a-15651b92f960",
   "metadata": {},
   "outputs": [
    {
     "data": {
      "text/plain": [
       "1    2\n",
       "0    6\n",
       "Name: Order Quantity, dtype: int64"
      ]
     },
     "execution_count": 29,
     "metadata": {},
     "output_type": "execute_result"
    }
   ],
   "source": [
    "# SMallest\n",
    "df['Order Quantity'].nsmallest(2)"
   ]
  },
  {
   "cell_type": "code",
   "execution_count": 30,
   "id": "d19b8bf7-bbc3-4ca9-8bae-d6ec8a46dc24",
   "metadata": {},
   "outputs": [],
   "source": [
    "# FInd values for Order Quantity >= 30\n",
    "\n",
    "filt = (df['Order Quantity'] >= 30)"
   ]
  },
  {
   "cell_type": "code",
   "execution_count": 32,
   "id": "e6bc1cd5-fd0e-47ed-8fab-9f6ae66919bf",
   "metadata": {},
   "outputs": [
    {
     "data": {
      "text/html": [
       "<div>\n",
       "<style scoped>\n",
       "    .dataframe tbody tr th:only-of-type {\n",
       "        vertical-align: middle;\n",
       "    }\n",
       "\n",
       "    .dataframe tbody tr th {\n",
       "        vertical-align: top;\n",
       "    }\n",
       "\n",
       "    .dataframe thead th {\n",
       "        text-align: right;\n",
       "    }\n",
       "</style>\n",
       "<table border=\"1\" class=\"dataframe\">\n",
       "  <thead>\n",
       "    <tr style=\"text-align: right;\">\n",
       "      <th></th>\n",
       "      <th>Order ID</th>\n",
       "      <th>Order Date</th>\n",
       "      <th>Order Quantity</th>\n",
       "      <th>Sales</th>\n",
       "      <th>Ship Mode</th>\n",
       "      <th>Profit</th>\n",
       "      <th>Unit Price</th>\n",
       "      <th>Customer Name</th>\n",
       "      <th>Customer Segment</th>\n",
       "      <th>Product Category</th>\n",
       "    </tr>\n",
       "  </thead>\n",
       "  <tbody>\n",
       "    <tr>\n",
       "      <th>6</th>\n",
       "      <td>35</td>\n",
       "      <td>2011-10-22</td>\n",
       "      <td>30</td>\n",
       "      <td>288.5600</td>\n",
       "      <td>Regular Air</td>\n",
       "      <td>60.720</td>\n",
       "      <td>9.11</td>\n",
       "      <td>Julie Creighton</td>\n",
       "      <td>Corporate</td>\n",
       "      <td>Office Supplies</td>\n",
       "    </tr>\n",
       "    <tr>\n",
       "      <th>8</th>\n",
       "      <td>36</td>\n",
       "      <td>2011-11-02</td>\n",
       "      <td>46</td>\n",
       "      <td>2484.7455</td>\n",
       "      <td>Regular Air</td>\n",
       "      <td>657.477</td>\n",
       "      <td>65.99</td>\n",
       "      <td>Sample Company A</td>\n",
       "      <td>Home Office</td>\n",
       "      <td>Technology</td>\n",
       "    </tr>\n",
       "    <tr>\n",
       "      <th>9</th>\n",
       "      <td>65</td>\n",
       "      <td>2011-03-17</td>\n",
       "      <td>32</td>\n",
       "      <td>3812.7300</td>\n",
       "      <td>Regular Air</td>\n",
       "      <td>1470.300</td>\n",
       "      <td>115.79</td>\n",
       "      <td>Tamara Dahlen</td>\n",
       "      <td>Corporate</td>\n",
       "      <td>Technology</td>\n",
       "    </tr>\n",
       "  </tbody>\n",
       "</table>\n",
       "</div>"
      ],
      "text/plain": [
       "   Order ID Order Date  Order Quantity      Sales    Ship Mode    Profit  \\\n",
       "6        35 2011-10-22              30   288.5600  Regular Air    60.720   \n",
       "8        36 2011-11-02              46  2484.7455  Regular Air   657.477   \n",
       "9        65 2011-03-17              32  3812.7300  Regular Air  1470.300   \n",
       "\n",
       "   Unit Price     Customer Name Customer Segment Product Category  \n",
       "6        9.11   Julie Creighton        Corporate  Office Supplies  \n",
       "8       65.99  Sample Company A      Home Office       Technology  \n",
       "9      115.79     Tamara Dahlen        Corporate       Technology  "
      ]
     },
     "execution_count": 32,
     "metadata": {},
     "output_type": "execute_result"
    }
   ],
   "source": [
    "df[filt]"
   ]
  },
  {
   "cell_type": "code",
   "execution_count": null,
   "id": "eef48c37-f667-4b3a-9bca-a341bc6229a1",
   "metadata": {},
   "outputs": [],
   "source": []
  }
 ],
 "metadata": {
  "kernelspec": {
   "display_name": "Python 3 (ipykernel)",
   "language": "python",
   "name": "python3"
  },
  "language_info": {
   "codemirror_mode": {
    "name": "ipython",
    "version": 3
   },
   "file_extension": ".py",
   "mimetype": "text/x-python",
   "name": "python",
   "nbconvert_exporter": "python",
   "pygments_lexer": "ipython3",
   "version": "3.13.3"
  }
 },
 "nbformat": 4,
 "nbformat_minor": 5
}
