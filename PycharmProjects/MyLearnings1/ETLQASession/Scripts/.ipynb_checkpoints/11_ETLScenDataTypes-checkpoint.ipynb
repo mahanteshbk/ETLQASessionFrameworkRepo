{
 "cells": [
  {
   "cell_type": "code",
   "execution_count": 1,
   "id": "fe438ea3-5622-4048-bef8-d6cfe61c8d8f",
   "metadata": {},
   "outputs": [],
   "source": [
    "# Data types checks in ETL"
   ]
  },
  {
   "cell_type": "code",
   "execution_count": 2,
   "id": "fc4b3997-fa92-4556-91c7-bc87aef074c7",
   "metadata": {},
   "outputs": [],
   "source": [
    "import pandas as pd"
   ]
  },
  {
   "cell_type": "code",
   "execution_count": 4,
   "id": "1bc6c346-6596-4711-8ed4-ca0d8961ebf1",
   "metadata": {},
   "outputs": [],
   "source": [
    "src = pd.read_csv('E:/Python/MyPython/PycharmProjects/MyLearnings1/ETLQASession/TestFiles/11_empDT_SRC.csv')"
   ]
  },
  {
   "cell_type": "code",
   "execution_count": 5,
   "id": "6d533998-14b3-48e6-8f5d-92271e2d9fb6",
   "metadata": {},
   "outputs": [
    {
     "data": {
      "text/html": [
       "<div>\n",
       "<style scoped>\n",
       "    .dataframe tbody tr th:only-of-type {\n",
       "        vertical-align: middle;\n",
       "    }\n",
       "\n",
       "    .dataframe tbody tr th {\n",
       "        vertical-align: top;\n",
       "    }\n",
       "\n",
       "    .dataframe thead th {\n",
       "        text-align: right;\n",
       "    }\n",
       "</style>\n",
       "<table border=\"1\" class=\"dataframe\">\n",
       "  <thead>\n",
       "    <tr style=\"text-align: right;\">\n",
       "      <th></th>\n",
       "      <th>EmpNo</th>\n",
       "      <th>EmpName</th>\n",
       "      <th>DeptName</th>\n",
       "      <th>Salary</th>\n",
       "    </tr>\n",
       "  </thead>\n",
       "  <tbody>\n",
       "    <tr>\n",
       "      <th>0</th>\n",
       "      <td>1</td>\n",
       "      <td>Adam</td>\n",
       "      <td>IT</td>\n",
       "      <td>111.50</td>\n",
       "    </tr>\n",
       "    <tr>\n",
       "      <th>1</th>\n",
       "      <td>2</td>\n",
       "      <td>Peter</td>\n",
       "      <td>HR</td>\n",
       "      <td>222.00</td>\n",
       "    </tr>\n",
       "    <tr>\n",
       "      <th>2</th>\n",
       "      <td>3</td>\n",
       "      <td>Chris</td>\n",
       "      <td>Finance</td>\n",
       "      <td>333.75</td>\n",
       "    </tr>\n",
       "    <tr>\n",
       "      <th>3</th>\n",
       "      <td>4</td>\n",
       "      <td>Alan</td>\n",
       "      <td>Admin</td>\n",
       "      <td>444.00</td>\n",
       "    </tr>\n",
       "    <tr>\n",
       "      <th>4</th>\n",
       "      <td>5</td>\n",
       "      <td>Mayank</td>\n",
       "      <td>HR</td>\n",
       "      <td>222.00</td>\n",
       "    </tr>\n",
       "    <tr>\n",
       "      <th>5</th>\n",
       "      <td>6</td>\n",
       "      <td>Rajesh</td>\n",
       "      <td>Sales</td>\n",
       "      <td>555.55</td>\n",
       "    </tr>\n",
       "    <tr>\n",
       "      <th>6</th>\n",
       "      <td>7</td>\n",
       "      <td>Pankaj</td>\n",
       "      <td>Sales</td>\n",
       "      <td>555.00</td>\n",
       "    </tr>\n",
       "  </tbody>\n",
       "</table>\n",
       "</div>"
      ],
      "text/plain": [
       "   EmpNo  EmpName DeptName  Salary\n",
       "0      1     Adam       IT  111.50\n",
       "1      2    Peter       HR  222.00\n",
       "2      3    Chris  Finance  333.75\n",
       "3      4     Alan    Admin  444.00\n",
       "4      5   Mayank       HR  222.00\n",
       "5      6  Rajesh     Sales  555.55\n",
       "6      7   Pankaj    Sales  555.00"
      ]
     },
     "execution_count": 5,
     "metadata": {},
     "output_type": "execute_result"
    }
   ],
   "source": [
    "src"
   ]
  },
  {
   "cell_type": "code",
   "execution_count": 6,
   "id": "d8540813-3cb3-4c3b-a641-42e3d6546b03",
   "metadata": {},
   "outputs": [],
   "source": [
    "tgt = pd.read_csv('E:/Python/MyPython/PycharmProjects/MyLearnings1/ETLQASession/TestFiles/11_empDT_TGT.csv')"
   ]
  },
  {
   "cell_type": "code",
   "execution_count": 7,
   "id": "5dfade06-d076-4869-9fe6-581ca0356c1d",
   "metadata": {},
   "outputs": [
    {
     "data": {
      "text/html": [
       "<div>\n",
       "<style scoped>\n",
       "    .dataframe tbody tr th:only-of-type {\n",
       "        vertical-align: middle;\n",
       "    }\n",
       "\n",
       "    .dataframe tbody tr th {\n",
       "        vertical-align: top;\n",
       "    }\n",
       "\n",
       "    .dataframe thead th {\n",
       "        text-align: right;\n",
       "    }\n",
       "</style>\n",
       "<table border=\"1\" class=\"dataframe\">\n",
       "  <thead>\n",
       "    <tr style=\"text-align: right;\">\n",
       "      <th></th>\n",
       "      <th>EmpNo</th>\n",
       "      <th>EmpName</th>\n",
       "      <th>DeptName</th>\n",
       "      <th>Salary</th>\n",
       "    </tr>\n",
       "  </thead>\n",
       "  <tbody>\n",
       "    <tr>\n",
       "      <th>0</th>\n",
       "      <td>1</td>\n",
       "      <td>Adam</td>\n",
       "      <td>101</td>\n",
       "      <td>111.50</td>\n",
       "    </tr>\n",
       "    <tr>\n",
       "      <th>1</th>\n",
       "      <td>2</td>\n",
       "      <td>Peter</td>\n",
       "      <td>201</td>\n",
       "      <td>222.00</td>\n",
       "    </tr>\n",
       "    <tr>\n",
       "      <th>2</th>\n",
       "      <td>3</td>\n",
       "      <td>Chris</td>\n",
       "      <td>301</td>\n",
       "      <td>333.75</td>\n",
       "    </tr>\n",
       "    <tr>\n",
       "      <th>3</th>\n",
       "      <td>4</td>\n",
       "      <td>Alan</td>\n",
       "      <td>401</td>\n",
       "      <td>444.00</td>\n",
       "    </tr>\n",
       "    <tr>\n",
       "      <th>4</th>\n",
       "      <td>5</td>\n",
       "      <td>Mayank</td>\n",
       "      <td>201</td>\n",
       "      <td>222.00</td>\n",
       "    </tr>\n",
       "    <tr>\n",
       "      <th>5</th>\n",
       "      <td>6</td>\n",
       "      <td>Rajesh</td>\n",
       "      <td>501</td>\n",
       "      <td>555.55</td>\n",
       "    </tr>\n",
       "    <tr>\n",
       "      <th>6</th>\n",
       "      <td>7</td>\n",
       "      <td>Pankaj</td>\n",
       "      <td>501</td>\n",
       "      <td>555.00</td>\n",
       "    </tr>\n",
       "  </tbody>\n",
       "</table>\n",
       "</div>"
      ],
      "text/plain": [
       "   EmpNo  EmpName  DeptName  Salary\n",
       "0      1     Adam       101  111.50\n",
       "1      2    Peter       201  222.00\n",
       "2      3    Chris       301  333.75\n",
       "3      4     Alan       401  444.00\n",
       "4      5   Mayank       201  222.00\n",
       "5      6  Rajesh        501  555.55\n",
       "6      7   Pankaj       501  555.00"
      ]
     },
     "execution_count": 7,
     "metadata": {},
     "output_type": "execute_result"
    }
   ],
   "source": [
    "tgt"
   ]
  },
  {
   "cell_type": "code",
   "execution_count": 15,
   "id": "29a28ef3-3edc-40aa-a8b7-afd206b0204b",
   "metadata": {},
   "outputs": [
    {
     "name": "stdout",
     "output_type": "stream",
     "text": [
      "Data type mismatch for the column  DeptName  between Source: object  and Target: int64\n"
     ]
    }
   ],
   "source": [
    "# For loop to check data types of mismatched columns\n",
    "\n",
    "for col in src.columns:\n",
    "    if src[col].dtype != tgt[col].dtype:\n",
    "       print(\"Data type mismatch for the column \", col, \" between Source:\", src[col].dtype, \" and Target:\", tgt[col].dtype)"
   ]
  },
  {
   "cell_type": "code",
   "execution_count": 16,
   "id": "234f737a-93fd-4a98-b522-871724276335",
   "metadata": {},
   "outputs": [
    {
     "name": "stdout",
     "output_type": "stream",
     "text": [
      "Data type match for the column  EmpNo  between Source: int64  and Target: int64\n",
      "Data type match for the column  EmpName  between Source: object  and Target: object\n",
      "Data type match for the column  Salary  between Source: float64  and Target: float64\n"
     ]
    }
   ],
   "source": [
    "# For loop to check data types of matched columns\n",
    "\n",
    "for col in src.columns:\n",
    "    if src[col].dtype == tgt[col].dtype:\n",
    "       print(\"Data type match for the column \", col, \" between Source:\", src[col].dtype, \" and Target:\", tgt[col].dtype)"
   ]
  },
  {
   "cell_type": "code",
   "execution_count": null,
   "id": "92d3742f-c9b8-4bd0-b3ce-76eb69bb88b7",
   "metadata": {},
   "outputs": [],
   "source": []
  }
 ],
 "metadata": {
  "kernelspec": {
   "display_name": "Python 3 (ipykernel)",
   "language": "python",
   "name": "python3"
  },
  "language_info": {
   "codemirror_mode": {
    "name": "ipython",
    "version": 3
   },
   "file_extension": ".py",
   "mimetype": "text/x-python",
   "name": "python",
   "nbconvert_exporter": "python",
   "pygments_lexer": "ipython3",
   "version": "3.13.3"
  }
 },
 "nbformat": 4,
 "nbformat_minor": 5
}
