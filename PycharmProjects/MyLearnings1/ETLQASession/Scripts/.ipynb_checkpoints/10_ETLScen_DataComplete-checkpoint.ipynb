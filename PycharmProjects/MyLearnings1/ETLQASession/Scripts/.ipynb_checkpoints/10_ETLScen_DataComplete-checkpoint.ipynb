{
 "cells": [
  {
   "cell_type": "code",
   "execution_count": 1,
   "id": "0f0d3bd6-0899-4d4b-9ee3-b66021852839",
   "metadata": {},
   "outputs": [],
   "source": [
    "# Data completeness check between Source csv file and Target table\n",
    "# Since I dont have DB i am considering both Source and Target as csv files"
   ]
  },
  {
   "cell_type": "code",
   "execution_count": 2,
   "id": "ae228485-c2f3-423e-93ea-296954e90451",
   "metadata": {},
   "outputs": [],
   "source": [
    "import pandas as pd"
   ]
  },
  {
   "cell_type": "code",
   "execution_count": 4,
   "id": "347b0109-8f88-4fad-8d22-e95ab7b4d8c9",
   "metadata": {},
   "outputs": [],
   "source": [
    "df_src = pd.read_csv('E:/Python/MyPython/PycharmProjects/MyLearnings1/ETLQASession/TestFiles/10_employee_SRC.csv')"
   ]
  },
  {
   "cell_type": "code",
   "execution_count": 5,
   "id": "aee9f245-e321-4a9c-ab71-4b0e315a318c",
   "metadata": {},
   "outputs": [
    {
     "data": {
      "text/html": [
       "<div>\n",
       "<style scoped>\n",
       "    .dataframe tbody tr th:only-of-type {\n",
       "        vertical-align: middle;\n",
       "    }\n",
       "\n",
       "    .dataframe tbody tr th {\n",
       "        vertical-align: top;\n",
       "    }\n",
       "\n",
       "    .dataframe thead th {\n",
       "        text-align: right;\n",
       "    }\n",
       "</style>\n",
       "<table border=\"1\" class=\"dataframe\">\n",
       "  <thead>\n",
       "    <tr style=\"text-align: right;\">\n",
       "      <th></th>\n",
       "      <th>EmpNo</th>\n",
       "      <th>EmpName</th>\n",
       "      <th>DeptName</th>\n",
       "      <th>DeptNo</th>\n",
       "    </tr>\n",
       "  </thead>\n",
       "  <tbody>\n",
       "    <tr>\n",
       "      <th>0</th>\n",
       "      <td>1</td>\n",
       "      <td>Adam</td>\n",
       "      <td>IT</td>\n",
       "      <td>111</td>\n",
       "    </tr>\n",
       "    <tr>\n",
       "      <th>1</th>\n",
       "      <td>2</td>\n",
       "      <td>Peter</td>\n",
       "      <td>HR</td>\n",
       "      <td>222</td>\n",
       "    </tr>\n",
       "    <tr>\n",
       "      <th>2</th>\n",
       "      <td>3</td>\n",
       "      <td>Chris</td>\n",
       "      <td>Finance</td>\n",
       "      <td>333</td>\n",
       "    </tr>\n",
       "    <tr>\n",
       "      <th>3</th>\n",
       "      <td>4</td>\n",
       "      <td>Alan</td>\n",
       "      <td>Admin</td>\n",
       "      <td>444</td>\n",
       "    </tr>\n",
       "    <tr>\n",
       "      <th>4</th>\n",
       "      <td>5</td>\n",
       "      <td>Mayank</td>\n",
       "      <td>HR</td>\n",
       "      <td>222</td>\n",
       "    </tr>\n",
       "    <tr>\n",
       "      <th>5</th>\n",
       "      <td>6</td>\n",
       "      <td>Rajesh</td>\n",
       "      <td>Sales</td>\n",
       "      <td>555</td>\n",
       "    </tr>\n",
       "    <tr>\n",
       "      <th>6</th>\n",
       "      <td>7</td>\n",
       "      <td>Pankaj</td>\n",
       "      <td>Sales</td>\n",
       "      <td>555</td>\n",
       "    </tr>\n",
       "  </tbody>\n",
       "</table>\n",
       "</div>"
      ],
      "text/plain": [
       "   EmpNo  EmpName DeptName  DeptNo\n",
       "0      1     Adam       IT     111\n",
       "1      2    Peter       HR     222\n",
       "2      3    Chris  Finance     333\n",
       "3      4     Alan    Admin     444\n",
       "4      5   Mayank       HR     222\n",
       "5      6  Rajesh     Sales     555\n",
       "6      7   Pankaj    Sales     555"
      ]
     },
     "execution_count": 5,
     "metadata": {},
     "output_type": "execute_result"
    }
   ],
   "source": [
    "df_src"
   ]
  },
  {
   "cell_type": "code",
   "execution_count": 6,
   "id": "5752e7eb-502b-41bf-a813-8b2cc51a0fa0",
   "metadata": {},
   "outputs": [],
   "source": [
    "df_tgt = pd.read_csv('E:/Python/MyPython/PycharmProjects/MyLearnings1/ETLQASession/TestFiles/10_employee_TGT.csv')"
   ]
  },
  {
   "cell_type": "code",
   "execution_count": 7,
   "id": "9da1552d-95d7-41af-9aab-848bccbb5aa8",
   "metadata": {},
   "outputs": [
    {
     "data": {
      "text/html": [
       "<div>\n",
       "<style scoped>\n",
       "    .dataframe tbody tr th:only-of-type {\n",
       "        vertical-align: middle;\n",
       "    }\n",
       "\n",
       "    .dataframe tbody tr th {\n",
       "        vertical-align: top;\n",
       "    }\n",
       "\n",
       "    .dataframe thead th {\n",
       "        text-align: right;\n",
       "    }\n",
       "</style>\n",
       "<table border=\"1\" class=\"dataframe\">\n",
       "  <thead>\n",
       "    <tr style=\"text-align: right;\">\n",
       "      <th></th>\n",
       "      <th>EmpNo</th>\n",
       "      <th>EmpName</th>\n",
       "      <th>DeptName</th>\n",
       "      <th>DeptNo</th>\n",
       "    </tr>\n",
       "  </thead>\n",
       "  <tbody>\n",
       "    <tr>\n",
       "      <th>0</th>\n",
       "      <td>1</td>\n",
       "      <td>Adam</td>\n",
       "      <td>IT</td>\n",
       "      <td>111</td>\n",
       "    </tr>\n",
       "    <tr>\n",
       "      <th>1</th>\n",
       "      <td>2</td>\n",
       "      <td>Peter</td>\n",
       "      <td>HR</td>\n",
       "      <td>222</td>\n",
       "    </tr>\n",
       "    <tr>\n",
       "      <th>2</th>\n",
       "      <td>3</td>\n",
       "      <td>Chris</td>\n",
       "      <td>Finance</td>\n",
       "      <td>333</td>\n",
       "    </tr>\n",
       "    <tr>\n",
       "      <th>3</th>\n",
       "      <td>4</td>\n",
       "      <td>Alan</td>\n",
       "      <td>Admin</td>\n",
       "      <td>444</td>\n",
       "    </tr>\n",
       "    <tr>\n",
       "      <th>4</th>\n",
       "      <td>7</td>\n",
       "      <td>Pankaj</td>\n",
       "      <td>Sales</td>\n",
       "      <td>555</td>\n",
       "    </tr>\n",
       "  </tbody>\n",
       "</table>\n",
       "</div>"
      ],
      "text/plain": [
       "   EmpNo EmpName DeptName  DeptNo\n",
       "0      1    Adam       IT     111\n",
       "1      2   Peter       HR     222\n",
       "2      3   Chris  Finance     333\n",
       "3      4    Alan    Admin     444\n",
       "4      7  Pankaj    Sales     555"
      ]
     },
     "execution_count": 7,
     "metadata": {},
     "output_type": "execute_result"
    }
   ],
   "source": [
    "df_tgt"
   ]
  },
  {
   "cell_type": "code",
   "execution_count": 10,
   "id": "b0d8bd2d-d502-4926-a11f-b37a3376c7a5",
   "metadata": {},
   "outputs": [
    {
     "data": {
      "text/plain": [
       "0     True\n",
       "1     True\n",
       "2     True\n",
       "3     True\n",
       "4    False\n",
       "5    False\n",
       "6     True\n",
       "Name: EmpNo, dtype: bool"
      ]
     },
     "execution_count": 10,
     "metadata": {},
     "output_type": "execute_result"
    }
   ],
   "source": [
    "# check EmpNo\n",
    "# is in checks displays records matched  between src and tgt and displays true and false for unmatched\n",
    "df_src['EmpNo'].isin(df_tgt['EmpNo'])"
   ]
  },
  {
   "cell_type": "code",
   "execution_count": 11,
   "id": "e42dc2ec-78c1-4086-875d-349ed1eda081",
   "metadata": {},
   "outputs": [
    {
     "data": {
      "text/plain": [
       "0    False\n",
       "1    False\n",
       "2    False\n",
       "3    False\n",
       "4     True\n",
       "5     True\n",
       "6    False\n",
       "Name: EmpNo, dtype: bool"
      ]
     },
     "execution_count": 11,
     "metadata": {},
     "output_type": "execute_result"
    }
   ],
   "source": [
    "# Use ~ negation to display unmatched records\n",
    "~df_src['EmpNo'].isin(df_tgt['EmpNo'])"
   ]
  },
  {
   "cell_type": "code",
   "execution_count": 14,
   "id": "14fb30a8-3e94-4dd4-9b7e-c738d820a1cc",
   "metadata": {},
   "outputs": [],
   "source": [
    "# displays the unmatched records\n",
    "df_result = df_src[~df_src['EmpNo'].isin(df_tgt['EmpNo'])]"
   ]
  },
  {
   "cell_type": "code",
   "execution_count": 15,
   "id": "2f54f85c-0042-4103-83ea-3988f18a8044",
   "metadata": {},
   "outputs": [
    {
     "data": {
      "text/html": [
       "<div>\n",
       "<style scoped>\n",
       "    .dataframe tbody tr th:only-of-type {\n",
       "        vertical-align: middle;\n",
       "    }\n",
       "\n",
       "    .dataframe tbody tr th {\n",
       "        vertical-align: top;\n",
       "    }\n",
       "\n",
       "    .dataframe thead th {\n",
       "        text-align: right;\n",
       "    }\n",
       "</style>\n",
       "<table border=\"1\" class=\"dataframe\">\n",
       "  <thead>\n",
       "    <tr style=\"text-align: right;\">\n",
       "      <th></th>\n",
       "      <th>EmpNo</th>\n",
       "      <th>EmpName</th>\n",
       "      <th>DeptName</th>\n",
       "      <th>DeptNo</th>\n",
       "    </tr>\n",
       "  </thead>\n",
       "  <tbody>\n",
       "    <tr>\n",
       "      <th>4</th>\n",
       "      <td>5</td>\n",
       "      <td>Mayank</td>\n",
       "      <td>HR</td>\n",
       "      <td>222</td>\n",
       "    </tr>\n",
       "    <tr>\n",
       "      <th>5</th>\n",
       "      <td>6</td>\n",
       "      <td>Rajesh</td>\n",
       "      <td>Sales</td>\n",
       "      <td>555</td>\n",
       "    </tr>\n",
       "  </tbody>\n",
       "</table>\n",
       "</div>"
      ],
      "text/plain": [
       "   EmpNo  EmpName DeptName  DeptNo\n",
       "4      5   Mayank       HR     222\n",
       "5      6  Rajesh     Sales     555"
      ]
     },
     "execution_count": 15,
     "metadata": {},
     "output_type": "execute_result"
    }
   ],
   "source": [
    "df_result"
   ]
  },
  {
   "cell_type": "code",
   "execution_count": 21,
   "id": "681dbd72-272a-4141-b48b-69baad89a975",
   "metadata": {},
   "outputs": [],
   "source": [
    "df_result.to_csv('E:/Python/MyPython/PycharmProjects/MyLearnings1/ETLQASession/OutputFiles/10_empcompresult.csv', index= False)"
   ]
  },
  {
   "cell_type": "code",
   "execution_count": 22,
   "id": "61c63323-45be-4686-817a-6b3092a38a26",
   "metadata": {},
   "outputs": [],
   "source": [
    "df_read = pd.read_csv('E:/Python/MyPython/PycharmProjects/MyLearnings1/ETLQASession/OutputFiles/10_empcompresult.csv')"
   ]
  },
  {
   "cell_type": "code",
   "execution_count": 23,
   "id": "58e4aec0-9aa2-4fbf-ba45-c21ce02918aa",
   "metadata": {},
   "outputs": [
    {
     "data": {
      "text/html": [
       "<div>\n",
       "<style scoped>\n",
       "    .dataframe tbody tr th:only-of-type {\n",
       "        vertical-align: middle;\n",
       "    }\n",
       "\n",
       "    .dataframe tbody tr th {\n",
       "        vertical-align: top;\n",
       "    }\n",
       "\n",
       "    .dataframe thead th {\n",
       "        text-align: right;\n",
       "    }\n",
       "</style>\n",
       "<table border=\"1\" class=\"dataframe\">\n",
       "  <thead>\n",
       "    <tr style=\"text-align: right;\">\n",
       "      <th></th>\n",
       "      <th>EmpNo</th>\n",
       "      <th>EmpName</th>\n",
       "      <th>DeptName</th>\n",
       "      <th>DeptNo</th>\n",
       "    </tr>\n",
       "  </thead>\n",
       "  <tbody>\n",
       "    <tr>\n",
       "      <th>0</th>\n",
       "      <td>5</td>\n",
       "      <td>Mayank</td>\n",
       "      <td>HR</td>\n",
       "      <td>222</td>\n",
       "    </tr>\n",
       "    <tr>\n",
       "      <th>1</th>\n",
       "      <td>6</td>\n",
       "      <td>Rajesh</td>\n",
       "      <td>Sales</td>\n",
       "      <td>555</td>\n",
       "    </tr>\n",
       "  </tbody>\n",
       "</table>\n",
       "</div>"
      ],
      "text/plain": [
       "   EmpNo  EmpName DeptName  DeptNo\n",
       "0      5   Mayank       HR     222\n",
       "1      6  Rajesh     Sales     555"
      ]
     },
     "execution_count": 23,
     "metadata": {},
     "output_type": "execute_result"
    }
   ],
   "source": [
    "df_read"
   ]
  },
  {
   "cell_type": "code",
   "execution_count": null,
   "id": "aaedb916-b900-46fb-b453-ed249d2c8284",
   "metadata": {},
   "outputs": [],
   "source": []
  }
 ],
 "metadata": {
  "kernelspec": {
   "display_name": "Python 3 (ipykernel)",
   "language": "python",
   "name": "python3"
  },
  "language_info": {
   "codemirror_mode": {
    "name": "ipython",
    "version": 3
   },
   "file_extension": ".py",
   "mimetype": "text/x-python",
   "name": "python",
   "nbconvert_exporter": "python",
   "pygments_lexer": "ipython3",
   "version": "3.13.3"
  }
 },
 "nbformat": 4,
 "nbformat_minor": 5
}
