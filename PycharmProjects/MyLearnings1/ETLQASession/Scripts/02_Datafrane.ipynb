{
 "cells": [
  {
   "cell_type": "code",
   "execution_count": 1,
   "id": "3b849d94-c1f7-44d0-bc91-23a24a89fff6",
   "metadata": {},
   "outputs": [],
   "source": [
    "import pandas as pd"
   ]
  },
  {
   "cell_type": "code",
   "execution_count": 2,
   "id": "e8dd3317-7c9e-478b-9558-cc012de3d3fd",
   "metadata": {},
   "outputs": [],
   "source": [
    "# create dict\n",
    "dict ={'EmpNo': 'Emp1', 'Name': 'Vaibhav','Dept':  'IT'\n",
    "}"
   ]
  },
  {
   "cell_type": "code",
   "execution_count": 3,
   "id": "2b68c7d4-a9a1-429c-bff3-80712169b900",
   "metadata": {},
   "outputs": [
    {
     "data": {
      "text/plain": [
       "{'EmpNo': 'Emp1', 'Name': 'Vaibhav', 'Dept': 'IT'}"
      ]
     },
     "execution_count": 3,
     "metadata": {},
     "output_type": "execute_result"
    }
   ],
   "source": [
    "# Display dict\n",
    "dict"
   ]
  },
  {
   "cell_type": "code",
   "execution_count": 4,
   "id": "a02e216a-d585-4ca0-92b8-c8c5c9811811",
   "metadata": {},
   "outputs": [],
   "source": [
    "# Adding mutliple rows in dict\n",
    "dict ={'EmpNo': ['Emp1', 'Emp2'], 'Name': ['Vaibhav','shish'],'Dept':  ['IT','Admin']\n",
    "}"
   ]
  },
  {
   "cell_type": "code",
   "execution_count": 5,
   "id": "ff61062e-5a38-4fb3-a957-2d967212a20c",
   "metadata": {},
   "outputs": [
    {
     "data": {
      "text/plain": [
       "{'EmpNo': ['Emp1', 'Emp2'],\n",
       " 'Name': ['Vaibhav', 'shish'],\n",
       " 'Dept': ['IT', 'Admin']}"
      ]
     },
     "execution_count": 5,
     "metadata": {},
     "output_type": "execute_result"
    }
   ],
   "source": [
    "dict"
   ]
  },
  {
   "cell_type": "code",
   "execution_count": 6,
   "id": "37e3473e-a8dd-4e66-93de-f2f4b9e0cfae",
   "metadata": {},
   "outputs": [],
   "source": [
    "# Convert dict into dataframne\n",
    "df1 = pd.DataFrame(dict)"
   ]
  },
  {
   "cell_type": "code",
   "execution_count": 7,
   "id": "86a3953a-567f-49b6-9672-8ed7e4eac8d4",
   "metadata": {},
   "outputs": [
    {
     "data": {
      "text/html": [
       "<div>\n",
       "<style scoped>\n",
       "    .dataframe tbody tr th:only-of-type {\n",
       "        vertical-align: middle;\n",
       "    }\n",
       "\n",
       "    .dataframe tbody tr th {\n",
       "        vertical-align: top;\n",
       "    }\n",
       "\n",
       "    .dataframe thead th {\n",
       "        text-align: right;\n",
       "    }\n",
       "</style>\n",
       "<table border=\"1\" class=\"dataframe\">\n",
       "  <thead>\n",
       "    <tr style=\"text-align: right;\">\n",
       "      <th></th>\n",
       "      <th>EmpNo</th>\n",
       "      <th>Name</th>\n",
       "      <th>Dept</th>\n",
       "    </tr>\n",
       "  </thead>\n",
       "  <tbody>\n",
       "    <tr>\n",
       "      <th>0</th>\n",
       "      <td>Emp1</td>\n",
       "      <td>Vaibhav</td>\n",
       "      <td>IT</td>\n",
       "    </tr>\n",
       "    <tr>\n",
       "      <th>1</th>\n",
       "      <td>Emp2</td>\n",
       "      <td>shish</td>\n",
       "      <td>Admin</td>\n",
       "    </tr>\n",
       "  </tbody>\n",
       "</table>\n",
       "</div>"
      ],
      "text/plain": [
       "  EmpNo     Name   Dept\n",
       "0  Emp1  Vaibhav     IT\n",
       "1  Emp2    shish  Admin"
      ]
     },
     "execution_count": 7,
     "metadata": {},
     "output_type": "execute_result"
    }
   ],
   "source": [
    "df1"
   ]
  },
  {
   "cell_type": "code",
   "execution_count": null,
   "id": "2e3f442c-10cb-488a-9c55-71da70e7c0db",
   "metadata": {},
   "outputs": [],
   "source": []
  }
 ],
 "metadata": {
  "kernelspec": {
   "display_name": "Python 3 (ipykernel)",
   "language": "python",
   "name": "python3"
  },
  "language_info": {
   "codemirror_mode": {
    "name": "ipython",
    "version": 3
   },
   "file_extension": ".py",
   "mimetype": "text/x-python",
   "name": "python",
   "nbconvert_exporter": "python",
   "pygments_lexer": "ipython3",
   "version": "3.13.3"
  }
 },
 "nbformat": 4,
 "nbformat_minor": 5
}
