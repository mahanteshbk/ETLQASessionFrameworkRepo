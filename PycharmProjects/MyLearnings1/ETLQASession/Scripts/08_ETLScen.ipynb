{
 "cells": [
  {
   "cell_type": "code",
   "execution_count": null,
   "id": "4539ce01-4dac-49f1-bbe6-aacb131197f1",
   "metadata": {},
   "outputs": [],
   "source": [
    "# Check filter condition and count at Src and Tgt"
   ]
  },
  {
   "cell_type": "code",
   "execution_count": 1,
   "id": "e728b7a1-ffd8-4002-b3b1-06526d562466",
   "metadata": {},
   "outputs": [],
   "source": [
    "import pandas as pd"
   ]
  },
  {
   "cell_type": "code",
   "execution_count": 2,
   "id": "32c3a702-8095-42b0-8b2d-3260dfee9d82",
   "metadata": {},
   "outputs": [],
   "source": [
    "# Target is not loaded with Dept = Sales\n",
    "df = pd.read_csv('E:/Python/MyPython/PycharmProjects/MyLearnings1/ETLQASession/TestFiles/08_employee_TGT.csv')"
   ]
  },
  {
   "cell_type": "code",
   "execution_count": 3,
   "id": "f9dbd033-26c7-4e46-bd91-7becf56c195e",
   "metadata": {},
   "outputs": [
    {
     "name": "stdout",
     "output_type": "stream",
     "text": [
      "   EmpNo EmpName DeptName\n",
      "0      1    Adam       IT\n",
      "1      1    Adam       IT\n",
      "2      2   Peter       HR\n",
      "3      3   Chris  Finance\n",
      "4      3   Chris  Finance\n",
      "5      4    Alan    Admin\n",
      "6      5  Mayank       HR\n",
      "7      5  Mayank       HR\n",
      "8      5  Mayank       HR\n"
     ]
    }
   ],
   "source": [
    "print(df)"
   ]
  },
  {
   "cell_type": "code",
   "execution_count": 4,
   "id": "9637cdbe-388f-4ac5-970d-3af3fb40222c",
   "metadata": {},
   "outputs": [
    {
     "data": {
      "text/plain": [
       "array(['IT', 'HR', 'Finance', 'Admin'], dtype=object)"
      ]
     },
     "execution_count": 4,
     "metadata": {},
     "output_type": "execute_result"
    }
   ],
   "source": [
    "# Check unique dept in tgt\n",
    "df['DeptName'].unique()"
   ]
  },
  {
   "cell_type": "code",
   "execution_count": 5,
   "id": "35a75f7f-27a1-4f2c-882a-06307bf7d6b4",
   "metadata": {},
   "outputs": [],
   "source": [
    "# REad Src file\n",
    "df1 = pd.read_csv('E:/Python/MyPython/PycharmProjects/MyLearnings1/ETLQASession/TestFiles/08_employee_SRC.csv')"
   ]
  },
  {
   "cell_type": "code",
   "execution_count": 6,
   "id": "29077cef-c02b-49fd-87c0-997972fb593d",
   "metadata": {},
   "outputs": [
    {
     "data": {
      "text/plain": [
       "array(['IT', 'HR', 'Finance', 'Admin', 'Sales'], dtype=object)"
      ]
     },
     "execution_count": 6,
     "metadata": {},
     "output_type": "execute_result"
    }
   ],
   "source": [
    "# Check unique dept in src\n",
    "df1['DeptName'].unique()"
   ]
  },
  {
   "cell_type": "code",
   "execution_count": 7,
   "id": "d599de94-20fe-4dbe-8cf5-fdef3359d0db",
   "metadata": {},
   "outputs": [
    {
     "data": {
      "text/plain": [
       "EmpNo       9\n",
       "EmpName     9\n",
       "DeptName    9\n",
       "dtype: int64"
      ]
     },
     "execution_count": 7,
     "metadata": {},
     "output_type": "execute_result"
    }
   ],
   "source": [
    "# check count in tgt\n",
    "df.count()"
   ]
  },
  {
   "cell_type": "code",
   "execution_count": 8,
   "id": "07f2d655-4e46-4b97-9bc4-90c5e766ab0f",
   "metadata": {},
   "outputs": [
    {
     "data": {
      "text/plain": [
       "EmpNo       11\n",
       "EmpName     11\n",
       "DeptName    11\n",
       "dtype: int64"
      ]
     },
     "execution_count": 8,
     "metadata": {},
     "output_type": "execute_result"
    }
   ],
   "source": [
    "# check count in src\n",
    "df1.count()"
   ]
  },
  {
   "cell_type": "code",
   "execution_count": null,
   "id": "49cbaf52-d52a-4008-8b21-2222abea099f",
   "metadata": {},
   "outputs": [],
   "source": []
  }
 ],
 "metadata": {
  "kernelspec": {
   "display_name": "Python 3 (ipykernel)",
   "language": "python",
   "name": "python3"
  },
  "language_info": {
   "codemirror_mode": {
    "name": "ipython",
    "version": 3
   },
   "file_extension": ".py",
   "mimetype": "text/x-python",
   "name": "python",
   "nbconvert_exporter": "python",
   "pygments_lexer": "ipython3",
   "version": "3.13.3"
  }
 },
 "nbformat": 4,
 "nbformat_minor": 5
}
